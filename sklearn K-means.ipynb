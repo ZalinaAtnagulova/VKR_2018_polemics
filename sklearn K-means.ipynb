{
 "cells": [
  {
   "cell_type": "code",
   "execution_count": 1,
   "metadata": {
    "collapsed": true
   },
   "outputs": [],
   "source": [
    "from sklearn import cluster\n",
    "import networkx as nx\n",
    "from collections import defaultdict\n",
    "from sklearn.metrics.cluster import normalized_mutual_info_score\n",
    "from sklearn.metrics.cluster import adjusted_rand_score\n",
    "import pickle\n",
    "from datetime import datetime\n",
    "from sklearn.cluster import KMeans"
   ]
  },
  {
   "cell_type": "code",
   "execution_count": 2,
   "metadata": {
    "collapsed": true
   },
   "outputs": [],
   "source": [
    "with open ('polemic_comments.pkl', 'rb') as fp:\n",
    "    polemic_comments = pickle.load(fp)"
   ]
  },
  {
   "cell_type": "code",
   "execution_count": 4,
   "metadata": {},
   "outputs": [
    {
     "name": "stdout",
     "output_type": "stream",
     "text": [
      "6 \t 18 \t 74 \t 4.111111111111111\n",
      "7 \t 28 \t 87 \t 3.107142857142857\n",
      "12 \t 13 \t 30 \t 2.3076923076923075\n",
      "16 \t 7 \t 31 \t 4.428571428571429\n",
      "20 \t 32 \t 443 \t 13.84375\n",
      "21 \t 20 \t 248 \t 12.4\n",
      "24 \t 8 \t 47 \t 5.875\n",
      "30 \t 68 \t 1521 \t 22.36764705882353\n",
      "33 \t 17 \t 985 \t 57.94117647058823\n",
      "34 \t 16 \t 334 \t 20.875\n"
     ]
    }
   ],
   "source": [
    "#count cluster contents\n",
    "only_comments_by_cluster = {}\n",
    "#prints 'cluster_id', 'num_articles_in_cluster', 'num_comments_in_cluster', 'mean_comments_in_cluster'\n",
    "for clstr in polemic_comments:\n",
    "    clstr_comments = []\n",
    "    cntr_articles = 0\n",
    "    for article in clstr[1]:\n",
    "        cntr_articles += 1\n",
    "        comments_arr = article[2]\n",
    "        if len(comments_arr) != 0:\n",
    "            for inner_tuple in comments_arr:\n",
    "                for comment_text in inner_tuple[1]:\n",
    "                    clstr_comments.append(comment_text)\n",
    "    cntr_comments = len(clstr_comments)\n",
    "    print(clstr[0],'\\t',cntr_articles,'\\t',cntr_comments,'\\t',cntr_comments/cntr_articles)\n",
    "    only_comments_by_cluster[clstr[0]] = clstr_comments"
   ]
  },
  {
   "cell_type": "code",
   "execution_count": 5,
   "metadata": {},
   "outputs": [
    {
     "name": "stderr",
     "output_type": "stream",
     "text": [
      "C:\\Anaconda\\lib\\site-packages\\gensim\\utils.py:860: UserWarning: detected Windows; aliasing chunkize to chunkize_serial\n",
      "  warnings.warn(\"detected Windows; aliasing chunkize to chunkize_serial\")\n"
     ]
    }
   ],
   "source": [
    "import nltk, math, codecs\n",
    "from gensim.models import Doc2Vec\n",
    "import re\n",
    "import pymorphy2\n",
    "from datetime import datetime\n",
    "\n",
    "fname = 'noStopLemma_PV-DBOW_wrd-vec_1it_2win_6mincount_alpha25-25_sz80.model'\n",
    "\n",
    "model = Doc2Vec.load(fname)\n",
    "\n",
    "morph = pymorphy2.MorphAnalyzer()"
   ]
  },
  {
   "cell_type": "code",
   "execution_count": 6,
   "metadata": {
    "collapsed": true
   },
   "outputs": [],
   "source": [
    "with open('stopwords.txt', 'r', encoding='utf-8') as f:\n",
    "    txt = f.read().split('\\n')\n",
    "stw = set(txt)"
   ]
  },
  {
   "cell_type": "code",
   "execution_count": 8,
   "metadata": {
    "collapsed": true
   },
   "outputs": [],
   "source": [
    "def distanceToCentroid():\n",
    "    '''calculate distances to centroid for clusters'''\n",
    "    all_distances = []\n",
    "    for i in range(NUM_CLUSTERS):\n",
    "        clustersize = 0\n",
    "        for j in range(0, len(assigned_clusters)):\n",
    "            if (assigned_clusters[j] == i):\n",
    "                clustersize+=1\n",
    "        clustersizes.append(clustersize)\n",
    "        dist = 0.0\n",
    "        centr = km.cluster_centers_[i]\n",
    "        for j in range(0, len(assigned_clusters)):\n",
    "            if (assigned_clusters[j] == i):\n",
    "                dist += pow(nltk.cluster.util.cosine_distance(vectors[j], centr),2)/clustersize\n",
    "        dist = math.sqrt(dist)\n",
    "        all_distances.append(dist)\n",
    "    return all_distances\n",
    "\n",
    "def nClosestToCentroid(cluster_id, n):\n",
    "    '''return n headlines closest to centroid'''\n",
    "    centr = km.cluster_centers_[clstr]\n",
    "    distances = []\n",
    "    for j in range(0, len(assigned_clusters)):\n",
    "        if (assigned_clusters[j] == cluster_id):\n",
    "            distances.append((used_lines[j], nltk.cluster.util.cosine_distance(vectors[j], centr)))\n",
    "    distances = sorted(distances, key=lambda tup: tup[1])\n",
    "    return distances[:n]\n",
    "\n",
    "\n",
    "def get_titles_by_cluster(id):\n",
    "    list = []\n",
    "    for x in range(0, len(assigned_clusters)):\n",
    "        if (assigned_clusters[x] == id):\n",
    "            list.append(used_lines[x])\n",
    "    return list\n",
    "\n",
    "def get_topics(titles):\n",
    "    from collections import Counter\n",
    "    words = [preprocess_document(x) for x in titles]\n",
    "    words = [word for sublist in words for word in sublist]\n",
    "    #filtered_words = [word for word in words if word not in stw]\n",
    "    count = Counter(words)\n",
    "    print(count.most_common()[:5])\n",
    "\n",
    "\n",
    "def cluster_to_topics(id):\n",
    "    '''return 5 words best describing the topic of the cluster'''\n",
    "    get_topics(get_titles_by_cluster(id))"
   ]
  },
  {
   "cell_type": "code",
   "execution_count": 21,
   "metadata": {},
   "outputs": [
    {
     "name": "stdout",
     "output_type": "stream",
     "text": [
      "inferring vectors\n",
      "inferring vectors\n",
      "inferring vectors\n",
      "inferring vectors\n",
      "inferring vectors\n",
      "done\n"
     ]
    }
   ],
   "source": [
    "def preprocess(str):\n",
    "    str = re.sub(r'http(s)?:\\/\\/\\S*? ', \"\", str)\n",
    "    return str\n",
    "\n",
    "\n",
    "def preprocess_document(text):\n",
    "    fixedNoStop = []\n",
    "    fixed = ''.join([x if x.isalnum() or x.isspace() else \" \" for x in text ]).split()\n",
    "    for fix in fixed:\n",
    "        if fix not in stw:\n",
    "            fix = morph.parse(fix)[0].normal_form\n",
    "            fixedNoStop.append(fix)\n",
    "    return fixedNoStop\n",
    "\n",
    "start_time = datetime.now()\n",
    "\n",
    "comm_clusters = []\n",
    "chosen_clstrs = ['20', '21', '30', '33', '34']\n",
    "NUM_CLUSTERS = 5\n",
    "divider = 6\n",
    "    \n",
    "for polem_clstr in chosen_clstrs:\n",
    "    lines = only_comments_by_cluster[polem_clstr]\n",
    "    for line in range(len(lines)):\n",
    "        lines[line] = lines[line].lower()\n",
    "\n",
    "    vectors = []\n",
    "\n",
    "    print(\"inferring vectors\")\n",
    "    duplicate_dict = {}\n",
    "    used_lines = []\n",
    "    for i, t in enumerate(lines):\n",
    "        if t not in duplicate_dict:\n",
    "            duplicate_dict[t] = True\n",
    "            used_lines.append(t)\n",
    "            vectors.append(model.infer_vector(preprocess_document(t)))\n",
    "            \n",
    "    clustersizes = []\n",
    "    km = KMeans(n_clusters=NUM_CLUSTERS, init='k-means++', max_iter=100, n_init=8)\n",
    "    km.fit(vectors)\n",
    "    assigned_clusters = km.labels_\n",
    "    \n",
    "    theme_clstrs = []\n",
    "    for clstr in range(NUM_CLUSTERS):\n",
    "        arr = []\n",
    "        n = round(len(get_titles_by_cluster(clstr))/divider)\n",
    "        nclose = nClosestToCentroid(clstr, n)\n",
    "        for close_comm in nclose:\n",
    "            arr.append(close_comm[0])\n",
    "        theme_clstrs.append(arr)\n",
    "    comm_clusters.append((polem_clstr, theme_clstrs))\n",
    "print(\"done\")"
   ]
  },
  {
   "cell_type": "code",
   "execution_count": 24,
   "metadata": {},
   "outputs": [
    {
     "data": {
      "text/plain": [
       "('20',\n",
       " [['игорь ,, та ни шо.',\n",
       "   'георгий головлёв,  чего тогда мне париться? пофигу',\n",
       "   'михаил глушко, верно сказано.',\n",
       "   'разберёмся без сопливых!!!!!!!!',\n",
       "   'leha.sakharov.90, не поймёшь, то ли ренжеры, то ли самураи.',\n",
       "   'mal-anv,где то так .согласен.',\n",
       "   '- у самой голова фарфоровая, туловище ватой набито, а туда же — воспитывать! ©',\n",
       "   'как быстро японцы хиросиму забыли...',\n",
       "   'юра андреев, человек разумный.',\n",
       "   'galaction.tereshin, этот коммент точно исчезнет...',\n",
       "   'baltica78com, их заставляют так думать.',\n",
       "   'fazer, прецедент был, и если б не боялись ответки, еще не один раз бы воспользовались.',\n",
       "   'таня и вова кленкины, как-бы состроумничали',\n",
       "   'кукловоды одни и те же. поэтому риторика одинаковая',\n",
       "   'игорь ,, пардон, встречал разок игоря-не-робота',\n",
       "   'мышки вместо противоракет?оригинально!:)',\n",
       "   'нафиг поддержку, лучше изготовьте сша мозг',\n",
       "   'galaction.tereshin, согласен, надо искоренить жалкое наследие \"кровавой империи\"',\n",
       "   'dezinsektorgorodovoi, смени пластинку. уже надоел. ты не халтурь. деньги отрабатывать надо. хватит на халяву гранды хапать.',\n",
       "   'владимир большаков, \"кенска волость? ну такие вопросы с кондачка не решаются, вы на недельке зайдите, может, что ни будь решим\".',\n",
       "   'dezinsektorgorodovoi, что за бред?',\n",
       "   'ну тузики-шарики-кабыздохи вам теперь корейцы не страшны, просенко их всех порвет.',\n",
       "   'igor.tsytsura.00, не  занимайтесь  плагиатом  и не  повторяйте  чужие  мысли  ,  помолчите  ,  раз  своих нет!',\n",
       "   'evg-mac, наплевать и забыть.',\n",
       "   'вообще-то там люди живут!',\n",
       "   'чья бы корова мычала, а твоя бы молчала !!!',\n",
       "   'подскажите товарищам, что можно просто попросить.',\n",
       "   'иван иванов, вы романтик))',\n",
       "   'георгий головлёв, нет,  нехорошие живут недолго и несчастливо. а насчет заглавных, пусть т9 этим занимается. мне влом',\n",
       "   'штаты не согласятся. им там мир не нужен!',\n",
       "   'игорь ,, это как в ла свой/чужой хороший/плохой? оценочные категории в геополитике не катят, отвечаю, сидя на диване.',\n",
       "   'елена ерофеева, пока побаиваются, вдруг кндр на америкосовскую агрессию ответит? они же давно уже по личику не получали.',\n",
       "   'георгий головлёв, для бога всё катит, он различий не делает. у него свои универсальные категории, заповеди и прочее'],\n",
       "  ['нужно прекратить поставки нефти в саму японию, а также в те страны, что ввели санкции против россии и пустить её (нефть) на свои нужды (понижение цен на топливо, энергоресурсы и т.п. для собственного населения). а то россия (сидя на нефти и газе) является сырьевым придатком развитого забугорья забывая о себе. хвати',\n",
       "   'надо дальше поставлять нефть в кндр, тем более если за неё своевремнно платят, разбрасываться покупателями в наше не простое время это преступление. а то что там японцы с сша считают то плевать на них, кто они такие указывать россии?!',\n",
       "   'классно, мид японии призвал россию прекратить экспортировать нефть в кндр- хватит на них наживаться. магазины, хватит продавать продукты народу, вы наживаетесь этим...',\n",
       "   'о да это будет прорыв всех выведут на чистую воду!во всем будет \"виновата\"  как всегда россия, а так же китай!интересно , после этого ещё долго китай будет что то покупать у незалежной?'],\n",
       "  ['а, эта дама, что беспокоится о ракетах кндр? лучше думала о том, что делают ядерные силы и про сша в европе?',\n",
       "   'если бы не гнобили кндр, то и пусков бы не было. германию объединили бескровно благодаря ссср, а вот с йеменом уже не получилось, развязали войну. с северной кореей тоже развязали бы, да у корейцев ответка прилететь может. западу пора заканчивать неокологиальную политику',\n",
       "   'расскажите мне кто-нибудь, какие страны атаковала маленькая кндр, что доказало бы ее большую опасность для мировой стабильности, чем американский агрессор.',\n",
       "   'духовная скрепа, глупости. это же обыкновенный американский фашизм. вы и это оправдываете? дико. убивать детей и женщин для морального давления на японцев? я не безразличен к фашизму, во всех его проявлениях. америкосовском то же. вместо того, что бы воевать с японской армией, америкосы уничтожали мирное население!!!!!!!! вот из за таких америкосов мои предки погибали. америкосы делали вид, что воюют, а сами убивали мирное население. фашизм, он и есть фашизм.',\n",
       "   'надеюсь эти чудики не развяжут войну, рядом китай и россия, не надо их сердить, мало не покажется. а то что штаты подставят под удар японию и корею которая под ними это однозначно.',\n",
       "   'если кндр может противостоять внешней агрессии, то олигархическая россия не может противостоять идеологическому разложению в обществе.',\n",
       "   'пиндосы испугались, кндр дала чётко понять, что будет, если сша не отвяжутся. теперь давят на всех, на кого могут, чтобы не самим спровоцировать их на ответные действия. китай, россия, вы плохо с ними боретесь!... очень хитрожопая позиция!',\n",
       "   'а что толку?.. сколько на большого корейца не дави, он всё в китай смотрит.. америкосам, надо просто сделать одну важную для себя и япошек вещь - вывести свои войска вместе со своими ракетами и ядерными бомбами из южной кореи.. и сразу же большой кореец, откажется от своей ядерной программы.. :))',\n",
       "   'немцы молодцы. они очень хотят, чтобы у этого шизоида были ядерные боеголовки.',\n",
       "   'алексей, а кто вам сказал, что кндр не предсказуема. она даже очень и очень предсказуема. в 100 раз лучше предсказуема, чем сша. могу предсказать на много лет вперёд: всякий раз как будут оказывать давление на кндр, она будет оказывать яростное сопротивление.',\n",
       "   'сионисты сша, систематически провоцируют кндр на воинственную агрессию, чтобы иметь предлог развязать на восточном континенте войну в которую может втянуться китай, индия и россия.  пока кто - то серьёзно не прищемит нос сионизму, они так и будут мутить воду по всему миру.',\n",
       "   'а россия призывает  японию убрать американские военные базы с японских островов. что-то движения не видно. как вы к нам, так и мы к вам. друг моего друга, мой друг. враг моего врага, мой друг. друг моего врага, мой враг.'],\n",
       "  ['alex4344944, украине по барабану, что происходит в кндр, они хозяину поддакивают.',\n",
       "   'пхеньян    выглядит   гораздо   лучше   ,  чем   забыченный    куев  .  чисто   ,  аккуратно  ,  современная   архитектура  .  желаю   руководству   кндр     новых   успехов   в   улучшении   благосостояния   своего   народа  и   освоении   ракетной    техники  .',\n",
       "   'хорошее предложение! только наше встречное - убрать американские базы из японии и южной кореи. тогда проблема уж точно рассосётся...',\n",
       "   'и чего япоши возмущаются? наоборот радоваться должны! что ракета без боеголовки...',\n",
       "   'lukanin.sanya2013, читай внимательно, они не залетели на территорию кндр',\n",
       "   'сколько можно идти на поводу у сша, а может наоборот встать на защиту кндр и подтянуть флот к гуама и окинава.',\n",
       "   'grey1963, не придется, а вот кндр я чувствую не долго осталось',\n",
       "   'помоему притензии не по адресу, все проблемы с кндр из-за ваших окупантов',\n",
       "   'и родился у рокетмена, в минуты этого непростительного пролёта,  наследник свободолюбивой империи балды - будующий неустрашимый ядерный молотобоец  ким чен ссун)',\n",
       "   '\"кстати, разделаться с человеком-ракетой нужно было давным-давно\", —подчеркнул человек - отверстие.',\n",
       "   'замените пожалуйста в ех татжтков и узбеков на рабочих из кндр.',\n",
       "   'что-то мне это напомнило, как на украине взломали гаубицу д-30 (кто в теме, тот поймет)... так и представляю себе это - виртуально мышкой наводят крестик на ракету - пыщь-пыщь - и ракета красиво со спецэффектами взрывается... чем больше подобный бред читаю, тем больше убеждаюсь в ущербности и бездарности (граничащей с откровенной тупостью) сша'],\n",
       "  ['arthur booo, \"стало историей которую бы все забыли\"\"забывать историю\" свойственно вашему народу.',\n",
       "   'александр иванов, хорошо уже то, что они стали хоть кого-то бояться. поубавилось уверенности в своей безнаказанности.',\n",
       "   'идея хорошая, только кто агрессора принудит, сша не станут слушать. нужен серьёзный союз европы, россии и китая, отменяйтесь санкции, господа ес.',\n",
       "   'страсти накаляются. как все таки ловко и цинично сша научились вертеть миром, просто снимаю шляпу.',\n",
       "   'mal-anv, план есть, слов в отношении россии -нет, журналюги всё дописывают отсебячину.',\n",
       "   'уверен в том, что амеры в принципе не понимают что и как должно делаться ведущими странами для сохранения мира на нашей планете! и это, увы, неизлечимо!..',\n",
       "   'георгий головлёв, без разницы кто кого встречал. речь только о принципе. хорошим -хорошо, плохим- плохо',\n",
       "   'георгий головлёв, хоть в калифорнии, хоть еще где, без разницы. бог всех и везде наказывает за грехи болезнями и смертями. а хорошие люди живут долго и счастливо',\n",
       "   'dfhrh4hhhh,  после этого северная корея бы стало историей которую бы все забыли )',\n",
       "   'myaksom, не напомнишь, кто там проиграл во второй мировой?',\n",
       "   'игорь ,, имейте в виду, что создаются гугглом фишинговые страницы с именами.можете не тому собеседнику ответить, вуаля.',\n",
       "   'oro1987, многие люди тут писали, что наоборот им хотелось бы , чтобы началась война, надоела америка']])"
      ]
     },
     "execution_count": 24,
     "metadata": {},
     "output_type": "execute_result"
    }
   ],
   "source": [
    "comm_clusters[0]"
   ]
  },
  {
   "cell_type": "code",
   "execution_count": 30,
   "metadata": {},
   "outputs": [],
   "source": [
    "with open('comments_by_themes.txt', 'w', encoding='utf-8') as f:\n",
    "    for topic in comm_clusters:\n",
    "        f.write(str(topic[0])+'\\n')\n",
    "        counter = 0\n",
    "        for comments in topic[1]:\n",
    "            f.write('Cluster_id {}\\n'.format(str(counter)))\n",
    "            for comm_cluster in comments:\n",
    "                #print(comm_cluster)\n",
    "                f.write(comm_cluster+'\\n')\n",
    "            counter = counter + 1\n",
    "            f.write('\\n')\n",
    "        f.write('\\n')\n",
    "\n",
    "#don't forget to clean output files from noise"
   ]
  },
  {
   "cell_type": "code",
   "execution_count": null,
   "metadata": {
    "collapsed": true
   },
   "outputs": [],
   "source": []
  }
 ],
 "metadata": {
  "kernelspec": {
   "display_name": "Python 3",
   "language": "python",
   "name": "python3"
  },
  "language_info": {
   "codemirror_mode": {
    "name": "ipython",
    "version": 3
   },
   "file_extension": ".py",
   "mimetype": "text/x-python",
   "name": "python",
   "nbconvert_exporter": "python",
   "pygments_lexer": "ipython3",
   "version": "3.6.2"
  }
 },
 "nbformat": 4,
 "nbformat_minor": 2
}
