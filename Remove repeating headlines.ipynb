{
 "cells": [
  {
   "cell_type": "code",
   "execution_count": 18,
   "metadata": {},
   "outputs": [],
   "source": [
    "#remove repeating headlines\n",
    "just_all = []\n",
    "with open('titles_links_og2018__till_01.01.2017.txt', 'r', encoding='utf-8') as f:\n",
    "    texts = f.read().lower().split('\\n###\\n')\n",
    "og = []\n",
    "for text in texts:\n",
    "    text = text.split('\\n')\n",
    "    #og.append((text[0], text[1]))\n",
    "    just_all.append((text[0], text[1]))\n",
    "\n",
    "#len(og)"
   ]
  },
  {
   "cell_type": "code",
   "execution_count": 42,
   "metadata": {},
   "outputs": [
    {
     "data": {
      "text/plain": [
       "80269"
      ]
     },
     "execution_count": 42,
     "metadata": {},
     "output_type": "execute_result"
    }
   ],
   "source": [
    "og = set(og)\n",
    "len(og)"
   ]
  },
  {
   "cell_type": "code",
   "execution_count": 36,
   "metadata": {
    "collapsed": true
   },
   "outputs": [],
   "source": [
    "with open('titles_links_world_till_10.02.2018-01.01.2017.txt', 'w', encoding='utf-8') as f:\n",
    "    for cortege in og:\n",
    "        f.write(cortege[0]+'\\n'+cortege[1]+'\\n###\\n')"
   ]
  },
  {
   "cell_type": "code",
   "execution_count": 19,
   "metadata": {
    "scrolled": true
   },
   "outputs": [],
   "source": [
    "with open('titles_links_economy_10.02.2018-01.01.2017.txt', 'r', encoding='utf-8') as f:\n",
    "    texts = f.read().lower().split('\\n###\\n')\n",
    "econ = []\n",
    "for text in texts:\n",
    "    text = text.split('\\n')\n",
    "    #econ.append((text[0], text[1]))\n",
    "    just_all.append((text[0], text[1]))\n",
    "\n",
    "#len(econ)"
   ]
  },
  {
   "cell_type": "code",
   "execution_count": 20,
   "metadata": {},
   "outputs": [],
   "source": [
    "with open('titles_links_incidents_10.02.2018-01.01.2017.txt', 'r', encoding='utf-8') as f:\n",
    "    texts = f.read().lower().split('\\n###\\n')\n",
    "incid = []\n",
    "for text in texts:\n",
    "    text = text.split('\\n')\n",
    "    #incid.append((text[0], text[1]))\n",
    "    just_all.append((text[0], text[1]))\n",
    "\n",
    "#len(incid)"
   ]
  },
  {
   "cell_type": "code",
   "execution_count": 21,
   "metadata": {},
   "outputs": [],
   "source": [
    "with open('titles_links_politics_10.02.2018-01.01.2017.txt', 'r', encoding='utf-8') as f:\n",
    "    texts = f.read().lower().split('\\n###\\n')\n",
    "polit = []\n",
    "for text in texts:\n",
    "    text = text.split('\\n')\n",
    "    #polit.append((text[0], text[1]))\n",
    "    just_all.append((text[0], text[1]))\n",
    "\n",
    "#len(polit)"
   ]
  },
  {
   "cell_type": "code",
   "execution_count": 22,
   "metadata": {},
   "outputs": [],
   "source": [
    "with open('titles_links_world_till_10.02.2018-01.01.2017.txt', 'r', encoding='utf-8') as f:\n",
    "    texts = f.read().lower().split('\\n###\\n')\n",
    "world = []\n",
    "for text in texts:\n",
    "    text = text.split('\\n')\n",
    "    #world.append((text[0], text[1]))\n",
    "    just_all.append((text[0], text[1]))\n",
    "\n",
    "#len(world)"
   ]
  },
  {
   "cell_type": "code",
   "execution_count": 23,
   "metadata": {},
   "outputs": [],
   "source": [
    "with open('titles_links_society_11.02.2018-01.01.2017.txt', 'r', encoding='utf-8') as f:\n",
    "    texts = f.read().lower().split('\\n###\\n')\n",
    "soc = []\n",
    "for text in texts:\n",
    "    text = text.split('\\n')\n",
    "    #soc.append((text[0], text[1]))\n",
    "    just_all.append((text[0], text[1]))\n",
    "\n",
    "#len(soc)"
   ]
  },
  {
   "cell_type": "code",
   "execution_count": 24,
   "metadata": {},
   "outputs": [
    {
     "data": {
      "text/plain": [
       "('свищев: исполком фкр по делу крушельницкого состоится 27 февраля',\n",
       " 'https://rsport.ria.ru/winter2018_curling/20180226/1133339267.html')"
      ]
     },
     "execution_count": 24,
     "metadata": {},
     "output_type": "execute_result"
    }
   ],
   "source": [
    "#og[0]\n",
    "just_all[0]"
   ]
  },
  {
   "cell_type": "code",
   "execution_count": 106,
   "metadata": {},
   "outputs": [
    {
     "data": {
      "text/plain": [
       "241"
      ]
     },
     "execution_count": 106,
     "metadata": {},
     "output_type": "execute_result"
    }
   ],
   "source": [
    "new_og = set()\n",
    "new_econ = set()\n",
    "new_incid = set()\n",
    "new_world = set()\n",
    "new_polit = set()\n",
    "new_soc = set()\n",
    "all_heads = set()\n",
    "sum_len = 0\n",
    "for head in og:\n",
    "    if head[0] not in all_heads:\n",
    "        all_heads.add(head)\n",
    "        if 'winter' in head[1]:\n",
    "            new_og.add(head)\n",
    "        if 'world' in head[1]:\n",
    "            new_world.add(head)\n",
    "        if 'ecomony' in head[1]:\n",
    "            new_econ.add(head)\n",
    "        if 'politics' in head[1]:\n",
    "            new_polit.add(head)\n",
    "        if 'incidents' in head[1]:\n",
    "            new_incid.add(head)\n",
    "        if 'society' in head[1]:\n",
    "            new_soc.add(head)\n",
    "sum_len+=len(new_og)\n",
    "len(new_og)"
   ]
  },
  {
   "cell_type": "code",
   "execution_count": 107,
   "metadata": {},
   "outputs": [
    {
     "data": {
      "text/plain": [
       "18288"
      ]
     },
     "execution_count": 107,
     "metadata": {},
     "output_type": "execute_result"
    }
   ],
   "source": [
    "for head in econ:\n",
    "    if head not in all_heads:\n",
    "        all_heads.add(head)\n",
    "        if 'winter' in head[1]:\n",
    "            new_og.add(head)\n",
    "        if 'world' in head[1]:\n",
    "            new_world.add(head)\n",
    "        if 'economy' in head[1]:\n",
    "            new_econ.add(head)\n",
    "        if 'politics' in head[1]:\n",
    "            new_polit.add(head)\n",
    "        if 'incidents' in head[1]:\n",
    "            new_incid.add(head)\n",
    "        if 'society' in head[1]:\n",
    "            new_soc.add(head)\n",
    "sum_len+=len(new_econ)\n",
    "len(new_econ)"
   ]
  },
  {
   "cell_type": "code",
   "execution_count": 108,
   "metadata": {},
   "outputs": [
    {
     "data": {
      "text/plain": [
       "78888"
      ]
     },
     "execution_count": 108,
     "metadata": {},
     "output_type": "execute_result"
    }
   ],
   "source": [
    "for head in world:\n",
    "    if head not in all_heads:\n",
    "        all_heads.add(head)\n",
    "        if 'winter' in head[1]:\n",
    "            new_og.add(head)\n",
    "        if 'world' in head[1]:\n",
    "            new_world.add(head)\n",
    "        if 'economy' in head[1]:\n",
    "            new_econ.add(head)\n",
    "        if 'politics' in head[1]:\n",
    "            new_polit.add(head)\n",
    "        if 'incidents' in head[1]:\n",
    "            new_incid.add(head)\n",
    "        if 'society' in head[1]:\n",
    "            new_soc.add(head)\n",
    "sum_len+=len(new_world)\n",
    "len(new_world)"
   ]
  },
  {
   "cell_type": "code",
   "execution_count": 109,
   "metadata": {},
   "outputs": [
    {
     "data": {
      "text/plain": [
       "8009"
      ]
     },
     "execution_count": 109,
     "metadata": {},
     "output_type": "execute_result"
    }
   ],
   "source": [
    "for head in polit:\n",
    "    if head not in all_heads:\n",
    "        all_heads.add(head)\n",
    "        if 'winter' in head[1]:\n",
    "            new_og.add(head)\n",
    "        if 'world' in head[1]:\n",
    "            new_world.add(head)\n",
    "        if 'economy' in head[1]:\n",
    "            new_econ.add(head)\n",
    "        if 'politics' in head[1]:\n",
    "            new_polit.add(head)\n",
    "        if 'incidents' in head[1]:\n",
    "            new_incid.add(head)\n",
    "        if 'society' in head[1]:\n",
    "            new_soc.add(head)\n",
    "sum_len+=len(new_polit)\n",
    "len(new_polit)"
   ]
  },
  {
   "cell_type": "code",
   "execution_count": 110,
   "metadata": {},
   "outputs": [
    {
     "data": {
      "text/plain": [
       "22406"
      ]
     },
     "execution_count": 110,
     "metadata": {},
     "output_type": "execute_result"
    }
   ],
   "source": [
    "for head in soc:\n",
    "    if head not in all_heads:\n",
    "        all_heads.add(head)\n",
    "        if 'winter' in head[1]:\n",
    "            new_og.add(head)\n",
    "        if 'world' in head[1]:\n",
    "            new_world.add(head)\n",
    "        if 'economy' in head[1]:\n",
    "            new_econ.add(head)\n",
    "        if 'politics' in head[1]:\n",
    "            new_polit.add(head)\n",
    "        if 'incidents' in head[1]:\n",
    "            new_incid.add(head)\n",
    "        if 'society' in head[1]:\n",
    "            new_soc.add(head)\n",
    "sum_len+=len(new_soc)\n",
    "len(new_soc)"
   ]
  },
  {
   "cell_type": "code",
   "execution_count": 111,
   "metadata": {},
   "outputs": [
    {
     "data": {
      "text/plain": [
       "27193"
      ]
     },
     "execution_count": 111,
     "metadata": {},
     "output_type": "execute_result"
    }
   ],
   "source": [
    "for head in incid:\n",
    "    if head not in all_heads:\n",
    "        all_heads.add(head)\n",
    "        if 'winter' in head[1]:\n",
    "            new_og.add(head)\n",
    "        if 'world' in head[1]:\n",
    "            new_world.add(head)\n",
    "        if 'economy' in head[1]:\n",
    "            new_econ.add(head)\n",
    "        if 'politics' in head[1]:\n",
    "            new_polit.add(head)\n",
    "        if 'incidents' in head[1]:\n",
    "            new_incid.add(head)\n",
    "        if 'society' in head[1]:\n",
    "            new_soc.add(head)\n",
    "sum_len+=len(new_incid)\n",
    "len(new_incid)"
   ]
  },
  {
   "cell_type": "code",
   "execution_count": 58,
   "metadata": {},
   "outputs": [
    {
     "data": {
      "text/plain": [
       "0"
      ]
     },
     "execution_count": 58,
     "metadata": {},
     "output_type": "execute_result"
    }
   ],
   "source": [
    "len(new_world)"
   ]
  },
  {
   "cell_type": "code",
   "execution_count": 112,
   "metadata": {},
   "outputs": [
    {
     "data": {
      "text/plain": [
       "155025"
      ]
     },
     "execution_count": 112,
     "metadata": {},
     "output_type": "execute_result"
    }
   ],
   "source": [
    "sum_len"
   ]
  },
  {
   "cell_type": "code",
   "execution_count": 92,
   "metadata": {
    "collapsed": true
   },
   "outputs": [],
   "source": [
    "from random import choice as ch"
   ]
  },
  {
   "cell_type": "code",
   "execution_count": 113,
   "metadata": {},
   "outputs": [
    {
     "name": "stdout",
     "output_type": "stream",
     "text": [
      "1000\n"
     ]
    },
    {
     "data": {
      "text/plain": [
       "25832"
      ]
     },
     "execution_count": 113,
     "metadata": {},
     "output_type": "execute_result"
    }
   ],
   "source": [
    "ctr = 0\n",
    "new_incid_test = []\n",
    "new_incid = list(new_incid)\n",
    "for i in range(round(len(new_incid)*0.05)+1):\n",
    "    ctr += 1\n",
    "    if ctr % 1000 == 0:\n",
    "        print (ctr)\n",
    "    case = ch(new_incid)\n",
    "    new_incid_test.append(case)\n",
    "    new_incid.remove(case)\n",
    "len(new_incid_test)\n",
    "len(new_incid)"
   ]
  },
  {
   "cell_type": "code",
   "execution_count": 114,
   "metadata": {},
   "outputs": [
    {
     "name": "stdout",
     "output_type": "stream",
     "text": [
      "1000\n"
     ]
    },
    {
     "data": {
      "text/plain": [
       "21285"
      ]
     },
     "execution_count": 114,
     "metadata": {},
     "output_type": "execute_result"
    }
   ],
   "source": [
    "ctr = 0\n",
    "new_soc_test = []\n",
    "new_soc = list(new_soc)\n",
    "for i in range(round(len(new_soc)*0.05)+1):\n",
    "    ctr += 1\n",
    "    if ctr % 1000 == 0:\n",
    "        print (ctr)\n",
    "    case = ch(new_soc)\n",
    "    new_soc_test.append(case)\n",
    "    new_soc.remove(case)\n",
    "len(new_soc_test)\n",
    "len(new_soc)"
   ]
  },
  {
   "cell_type": "code",
   "execution_count": 116,
   "metadata": {},
   "outputs": [
    {
     "data": {
      "text/plain": [
       "7609"
      ]
     },
     "execution_count": 116,
     "metadata": {},
     "output_type": "execute_result"
    }
   ],
   "source": [
    "ctr = 0\n",
    "new_polit_test = []\n",
    "new_polit = list(new_polit)\n",
    "for i in range(round(len(new_polit)*0.05)+1):\n",
    "    ctr += 1\n",
    "    if ctr % 1000 == 0:\n",
    "        print (ctr)\n",
    "    case = ch(new_polit)\n",
    "    new_polit_test.append(case)\n",
    "    new_polit.remove(case)\n",
    "len(new_polit_test)\n",
    "len(new_polit)"
   ]
  },
  {
   "cell_type": "code",
   "execution_count": 117,
   "metadata": {},
   "outputs": [
    {
     "name": "stdout",
     "output_type": "stream",
     "text": [
      "1000\n",
      "2000\n",
      "3000\n"
     ]
    },
    {
     "data": {
      "text/plain": [
       "74980"
      ]
     },
     "execution_count": 117,
     "metadata": {},
     "output_type": "execute_result"
    }
   ],
   "source": [
    "ctr = 0\n",
    "new_world_test = []\n",
    "new_world = list(new_world)\n",
    "for i in range(round(len(new_world)*0.05)+1):\n",
    "    ctr += 1\n",
    "    if ctr % 1000 == 0:\n",
    "        print (ctr)\n",
    "    case = ch(new_world)\n",
    "    new_world_test.append(case)\n",
    "    new_world.remove(case)\n",
    "len(new_world_test)\n",
    "len(new_world)"
   ]
  },
  {
   "cell_type": "code",
   "execution_count": 118,
   "metadata": {},
   "outputs": [
    {
     "data": {
      "text/plain": [
       "17374"
      ]
     },
     "execution_count": 118,
     "metadata": {},
     "output_type": "execute_result"
    }
   ],
   "source": [
    "ctr = 0\n",
    "new_econ_test = []\n",
    "new_econ = list(new_econ)\n",
    "for i in range(round(len(new_econ)*0.05)+1):\n",
    "    ctr += 1\n",
    "    if ctr % 1000 == 0:\n",
    "        print (ctr)\n",
    "    case = ch(new_econ)\n",
    "    new_econ_test.append(case)\n",
    "    new_econ.remove(case)\n",
    "len(new_econ_test)\n",
    "len(new_econ)"
   ]
  },
  {
   "cell_type": "code",
   "execution_count": 119,
   "metadata": {},
   "outputs": [
    {
     "data": {
      "text/plain": [
       "228"
      ]
     },
     "execution_count": 119,
     "metadata": {},
     "output_type": "execute_result"
    }
   ],
   "source": [
    "ctr = 0\n",
    "new_og_test = []\n",
    "new_og = list(new_og)\n",
    "for i in range(round(len(new_og)*0.05)+1):\n",
    "    ctr += 1\n",
    "    if ctr % 1000 == 0:\n",
    "        print (ctr)\n",
    "    case = ch(new_og)\n",
    "    new_og_test.append(case)\n",
    "    new_og.remove(case)\n",
    "len(new_og_test)\n",
    "len(new_og)"
   ]
  },
  {
   "cell_type": "code",
   "execution_count": 130,
   "metadata": {
    "collapsed": true
   },
   "outputs": [],
   "source": [
    "all_train = []\n",
    "all_test = []\n",
    "for head in new_og:\n",
    "    all_train.append(head[0])\n",
    "for head in new_world:\n",
    "    all_train.append(head[0])\n",
    "for head in new_econ:\n",
    "    all_train.append(head[0])\n",
    "for head in new_polit:\n",
    "    all_train.append(head[0])\n",
    "for head in new_incid:\n",
    "    all_train.append(head[0])\n",
    "for head in new_soc:\n",
    "    all_train.append(head[0])"
   ]
  },
  {
   "cell_type": "code",
   "execution_count": 131,
   "metadata": {},
   "outputs": [
    {
     "data": {
      "text/plain": [
       "147308"
      ]
     },
     "execution_count": 131,
     "metadata": {},
     "output_type": "execute_result"
    }
   ],
   "source": [
    "len(all_train)"
   ]
  },
  {
   "cell_type": "code",
   "execution_count": 132,
   "metadata": {
    "collapsed": true
   },
   "outputs": [],
   "source": [
    "for head in new_og_test:\n",
    "    all_test.append(head[0])\n",
    "for head in new_world_test:\n",
    "    all_test.append(head[0])\n",
    "for head in new_econ_test:\n",
    "    all_test.append(head[0])\n",
    "for head in new_polit_test:\n",
    "    all_test.append(head[0])\n",
    "for head in new_incid_test:\n",
    "    all_test.append(head[0])\n",
    "for head in new_soc_test:\n",
    "    all_test.append(head[0])"
   ]
  },
  {
   "cell_type": "code",
   "execution_count": 133,
   "metadata": {},
   "outputs": [
    {
     "data": {
      "text/plain": [
       "7758"
      ]
     },
     "execution_count": 133,
     "metadata": {},
     "output_type": "execute_result"
    }
   ],
   "source": [
    "len(all_test)"
   ]
  },
  {
   "cell_type": "code",
   "execution_count": 124,
   "metadata": {
    "collapsed": true
   },
   "outputs": [],
   "source": [
    "set_tr = set(all_train)\n",
    "set_tst = set(all_test)"
   ]
  },
  {
   "cell_type": "code",
   "execution_count": 134,
   "metadata": {
    "collapsed": true
   },
   "outputs": [
    {
     "data": {
      "text/plain": [
       "['В ГД назвали истерикой и провокацией статью New York Post о сборной России',\n",
       " '\"Это отыгрывается\": Боброва/Соловьев продолжат борьбу в танцах на льду на ОИ',\n",
       " 'Хоккеист Зуб: надеюсь, за пение гимна страны на Олимпиаде \"ничего не будет\"',\n",
       " 'Капризов: думаю, что вся сборная России будет \"проставляться\" за победу на ОИ',\n",
       " 'Двенадцатый день Игр принес российским олимпийцам две медали',\n",
       " 'Мужской сборной США по керлингу вручили золотые медали ОИ за победу в женском турнире',\n",
       " 'Большинство россиян следили за ОИ-2018 и довольны успехами наших атлетов',\n",
       " 'Бобслеист Андрианов: ОИ в Корее не сравнить с Играми в Сочи, зрителей было очень мало',\n",
       " 'Американец и финн будут судить хоккейный финал ОИ Россия - Германия',\n",
       " 'Российские хоккеисты не будут менять состав перед финалом Олимпиады',\n",
       " 'Большунов: на ОИ не думал о возможных провокациях в отношении россиян',\n",
       " 'Глава ПКР отправился в Пхенчхан, чтобы поддержать российских атлетов на Паралимпиаде',\n",
       " 'Капризов: в истории останется вся команда, а я просто рад, что чемпион ОИ',\n",
       " 'Владельца Nautilus официально обвинили в убийстве шведской журналистки',\n",
       " 'В Британии сожгли волонтера, помогавшего ВСУ',\n",
       " 'Актер Патрик Стюарт хочет стать гражданином США, чтобы бороться с Трампом',\n",
       " 'Метеорологи рассказали, когда улучшится ситуация в окутанном смогом Дели',\n",
       " 'В Стамбуле вооруженный пациент взял в заложники сотрудников психбольницы',\n",
       " 'Тиллерсон призвал дать Трампу больше гибкости по санкциям против России',\n",
       " 'Военные подняли флаг Ирака у реки Тигр на исторической части Мосула',\n",
       " 'У берегов Китая перевернулось судно, десять человек пропали без вести',\n",
       " 'Желаемое за действительное: отворачивается ли Белый дом от России',\n",
       " 'Супруга премьера Киргизии родила ему четвертую дочь',\n",
       " 'Рютте рассказал об отсутствии единства стран ЕС по квотам на прием беженцев',\n",
       " 'Посол Испании в России назвал происходящее в Каталонии грустным моментом',\n",
       " 'ВСУ открыли залповый огонь по позициям \"Правого сектора\"*',\n",
       " 'Россия приобретает все больший резонанс в ООН, считают эксперты',\n",
       " 'Дата российско-японской встречи по южным Курилам согласовывается, сообщил дипломат',\n",
       " 'В Гамбурге на саммите G20 Мэй встретится с Трампом',\n",
       " 'Гройсман призвал усилить меры безопасности в общественных местах',\n",
       " 'Обмен пленными между ДНР, ЛНР и Украиной будет продолжен, заявила Захарова',\n",
       " 'В Казахстане создали комиссию для расследования причин ЧП с автобусом',\n",
       " 'Порошенко предложили каналом отделить Крым от материка',\n",
       " 'Emirates сократит рейсы в США после запретов и ограничений Трампа',\n",
       " 'В Аргентине при столкновении автобусов погибли не менее десяти человек',\n",
       " 'Обама признал, что американцы доверяют Путину больше, чем правительству США',\n",
       " 'Трамп в разговоре с Ас-Сиси выразил соболезнования из-за теракта в Египте',\n",
       " 'Госдеп не комментирует сообщения о депешах дипломатов по указу Трампа',\n",
       " 'В центре Киева у здания кабинета министров прогремел взрыв',\n",
       " 'Президент Зимбабве продал свой скот и пожертвовал деньги Африканскому союзу',\n",
       " 'Багдад потребовал, чтобы Курдистан обозначил свою неотделимость от Ирака',\n",
       " 'Перестановки в правительстве Египта затронут глав девяти ведомств',\n",
       " 'Лондон подтвердил поставку 500 кассетных бомб Эр-Рияду в 1986-1989 годах',\n",
       " 'Небензя заявил, что США следует выполнять соглашение по Ирану',\n",
       " 'После взрыва в Саулкрасты полиция Латвии проверит пиротехнические фирмы',\n",
       " 'Сеул не будет отказываться от диалога с КНДР',\n",
       " 'Китай надеется на возобновление шестисторонних переговоров по КНДР',\n",
       " 'Совфед ратифицировал соглашение с Ираном о передаче осужденных',\n",
       " 'Британские консерваторы остановят предвыборную кампанию из-за взрыва в Манчестере',\n",
       " 'Доклад: в Донбассе в качестве пыток применяется сексуальное насилие',\n",
       " 'Катар намерен сотрудничать с Ираном для разрешения проблем в исламском мире',\n",
       " 'Суд арестовал виновницу смертельного ДТП в Харькове',\n",
       " 'В ЦИК Киргизии заявление на участие в выборах президента подали 30 человек',\n",
       " 'В Армении отложили разбирательство по делу о попытке захвата власти',\n",
       " 'Министр по делам Уэльса Алун Кайрнс сохранил свой пост',\n",
       " 'Лондонский аэропорт Лутон из-за снегопада закрыт для полетов',\n",
       " 'СМИ: ИГ* взяла ответственность за взрывы в церквях Египта',\n",
       " 'Би-би-си дал прогноз на выборы в британский парламент',\n",
       " 'Эксперт оценил возможный отказ КНДР от плана России и Китая по урегулированию',\n",
       " 'Число жертв инцидента с перевернувшейся на Ганге лодкой увеличилось до 26',\n",
       " 'Премьер Японии подтвердил намерение приехать на ПМЭФ-2018, заявил Ушаков',\n",
       " 'Серийную убийцу из Канады уволили из частной школы после разоблачения СМИ',\n",
       " 'Обама назвал главной задачей в отношениях с Кубой взаимодействие народов',\n",
       " 'Британский премьер следит за ситуацией вокруг взрыва в лондонском метро',\n",
       " 'Под реактором на Фукусиме обнаружили радиоактивный мусор',\n",
       " 'День рождения бывшего лидера КНДР отмечается на фоне убийства его сына',\n",
       " 'Белый дом: угрозы Трампа в отношении КНДР не были импровизацией',\n",
       " 'Белый дом: слова Трампа о мигрантах не связаны с нападением на индийцев',\n",
       " 'Почему от Украины до США царит уныние. О жертвах Нового шелкового пути',\n",
       " 'В ЛНР заявили, что Пасечник поддержит курс на борьбу с коррупцией',\n",
       " 'Юрист прокомментировал возможное лишение иммунитета дипсобственности России',\n",
       " 'Ирак оценил ущерб от ИГ* в сто миллиардов долларов',\n",
       " 'Кандидат на пост главы Минюста против идеи запрета на въезд мусульман в США',\n",
       " 'В Колумбии проводят спасательную операции в районе, где затонула лодка',\n",
       " 'Меркель рада встрече Трампа и Путина и тому, что их общение \"длилось долго\"',\n",
       " 'Член ОП планирует обратиться в ООН из-за решения конгресса США по RT',\n",
       " 'Стало известно, когда МВФ рассмотрит вопрос об очередном транше Киеву',\n",
       " 'Генсек ООН осудил нападение в Турку и выразил соболезнования Финляндии',\n",
       " 'Украинские радикалы заблокировали офис Сбербанка в Запорожье',\n",
       " 'Вице-губернатора провинции Ганьсу в Китае отстранили от должности',\n",
       " 'Порошенко сравнил Россию с крокодилом',\n",
       " 'Путин выразил соболезнования Меркель после гибели людей в ДТП в Баварии',\n",
       " 'В МИД прокомментировали решение суда ЕС по иску Киселева',\n",
       " 'В Нигерии более 30 человек погибли при нападениях боевиков \"Боко Харам\"',\n",
       " 'Трамп поздравил Макрона с победой на выборах во Франции',\n",
       " 'Глава ЛНР поблагодарил жителей, выступивших против блокады Донбасса',\n",
       " 'СМИ рассказали, кто мог совершить кибератаку на сеть британского парламента',\n",
       " 'Италия выступила против автоматического продления санкций против России',\n",
       " 'Отстраненного от должности главу фискальной службы Украины прооперировали',\n",
       " 'Цены на нефть незначительно снизились после резкого роста',\n",
       " 'Политолог подвел итоги выборов в Южной Осетии',\n",
       " 'Депутат от правящей партии Турции назвал НАТО продуктом холодной войны',\n",
       " 'Адвокат рассказал, чем Брейвик занимается в тюрьме',\n",
       " 'Жителям ОАЭ грозит тюремный срок за критику политики в отношении Катара',\n",
       " 'Офис Верховного комиссара ООН обвинил Трампа в расизме из-за слов о \"странах-гадюшниках\"',\n",
       " 'КНДР ничего не нарушает, разрабатывая ядерное оружие, считают в Пхеньяне',\n",
       " 'Порошенко мечтает провести следующие саммиты Украина-ЕС в Донецке и Ялте',\n",
       " '\"Постоянные жители\": экс-президент Латвии предложила переименовать \"неграждан\"',\n",
       " 'МИД Украины проверяет информацию о карте с польским Львовом в Варшаве',\n",
       " 'В Лондоне станция метро рядом с местом теракта открылась для пассажиров']"
      ]
     },
     "execution_count": 134,
     "metadata": {},
     "output_type": "execute_result"
    }
   ],
   "source": [
    "all_test[:100]"
   ]
  },
  {
   "cell_type": "code",
   "execution_count": 135,
   "metadata": {
    "collapsed": true
   },
   "outputs": [],
   "source": [
    "with open('train_headlines.txt', 'w', encoding='utf-8') as f:\n",
    "    for head in all_train[:-1]:\n",
    "        f.write(head+'\\n')\n",
    "    f.write(all_train[-1])"
   ]
  },
  {
   "cell_type": "code",
   "execution_count": 136,
   "metadata": {
    "collapsed": true
   },
   "outputs": [],
   "source": [
    "with open('test_headlines.txt', 'w', encoding='utf-8') as f:\n",
    "    for head in all_test[:-1]:\n",
    "        f.write(head+'\\n')\n",
    "    f.write(all_test[-1])"
   ]
  },
  {
   "cell_type": "code",
   "execution_count": 5,
   "metadata": {},
   "outputs": [
    {
     "data": {
      "text/plain": [
       "7758"
      ]
     },
     "execution_count": 5,
     "metadata": {},
     "output_type": "execute_result"
    }
   ],
   "source": [
    "with open('test_headlines.txt', 'r', encoding='utf-8') as f:\n",
    "    all_tests = f.read().split('\\n')\n",
    "len(all_tests)"
   ]
  },
  {
   "cell_type": "code",
   "execution_count": 6,
   "metadata": {
    "collapsed": true
   },
   "outputs": [],
   "source": [
    "from random import choice as ch"
   ]
  },
  {
   "cell_type": "code",
   "execution_count": 7,
   "metadata": {
    "collapsed": true
   },
   "outputs": [],
   "source": [
    "all_test_short = []\n",
    "for i in range(2210):\n",
    "    target = ch(all_tests)\n",
    "    all_test_short.append(target)\n",
    "    all_tests.remove(target)"
   ]
  },
  {
   "cell_type": "code",
   "execution_count": 8,
   "metadata": {},
   "outputs": [
    {
     "data": {
      "text/plain": [
       "2210"
      ]
     },
     "execution_count": 8,
     "metadata": {},
     "output_type": "execute_result"
    }
   ],
   "source": [
    "len(all_test_short)"
   ]
  },
  {
   "cell_type": "code",
   "execution_count": 9,
   "metadata": {
    "collapsed": true
   },
   "outputs": [],
   "source": [
    "with open('test_headlines_short.txt', 'w', encoding='utf-8') as f:\n",
    "    for head in all_test_short[:-1]:\n",
    "        f.write(head+'\\n')\n",
    "    f.write(all_test_short[-1])"
   ]
  },
  {
   "cell_type": "code",
   "execution_count": 31,
   "metadata": {},
   "outputs": [],
   "source": [
    "with open('all_heads_links_nodups.txt', 'w', encoding='utf-8') as outfile:\n",
    "    for tup in just_all:\n",
    "        outfile.write(tup[0]+'\\t'+tup[1]+'\\n')"
   ]
  },
  {
   "cell_type": "code",
   "execution_count": 29,
   "metadata": {},
   "outputs": [
    {
     "name": "stdout",
     "output_type": "stream",
     "text": [
      "[('свищев: исполком фкр по делу крушельницкого состоится 27 февраля', 'https://rsport.ria.ru/winter2018_curling/20180226/1133339267.html'), ('каменский: российские хоккеисты серьезно настроятся на финал против немцев', 'https://rsport.ria.ru/winter2018_hockey/20180224/1133218105.html'), ('конькобежец ли сынхун завоевал золото олимпиады в масс-старте', 'https://rsport.ria.ru/winter2018_speedskating/20180224/1133224211.html'), ('тренер керлингистов: ошибки россиян в тактике привели к двум поражениям кряду на пи', 'https://rsport.ria.ru/winter2018_curling/20180314/1134076347.html'), ('александр медведев: российские хоккеисты вышли из сложной ситуации в финале ои', 'https://rsport.ria.ru/winter2018_hockey/20180225/1133286821.html'), ('мок: исполненный хоккеистами на ои гимн рф не скажется на решении по окр', 'https://rsport.ria.ru/winter2018_hockey/20180226/1133333450.html'), ('комиссия спортсменов мок ждет снятия отстранения с окр после перепроверки проб', 'https://rsport.ria.ru/winter2018_news/20180225/1133282904.html'), ('глава ipc парсонс: оргкомитет зимней паралимпиады в пхенчхане провел выдающиеся игры', 'https://rsport.ria.ru/winter2018_paralympics/20180318/1134246188.html'), ('поздняков: спортсмены oar на олимпиаде полностью соответствовали требованиям мок', 'https://rsport.ria.ru/winter2018_news/20180224/1133215778.html'), ('яшин: российские хоккеисты выиграли ои, потому что каждый выполнил свою роль', 'https://rsport.ria.ru/winter2018_hockey/20180225/1133280610.html')]\n"
     ]
    }
   ],
   "source": [
    "print(just_all[:10])"
   ]
  },
  {
   "cell_type": "code",
   "execution_count": null,
   "metadata": {
    "collapsed": true
   },
   "outputs": [],
   "source": []
  }
 ],
 "metadata": {
  "kernelspec": {
   "display_name": "Python 3",
   "language": "python",
   "name": "python3"
  },
  "language_info": {
   "codemirror_mode": {
    "name": "ipython",
    "version": 3
   },
   "file_extension": ".py",
   "mimetype": "text/x-python",
   "name": "python",
   "nbconvert_exporter": "python",
   "pygments_lexer": "ipython3",
   "version": "3.6.2"
  }
 },
 "nbformat": 4,
 "nbformat_minor": 2
}
